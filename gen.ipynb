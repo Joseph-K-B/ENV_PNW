{
 "cells": [
  {
   "cell_type": "code",
   "execution_count": null,
   "metadata": {},
   "outputs": [],
   "source": [
    "import pandas as pd\n",
    "from pandas_profiling import ProfileReport\n",
    "\n",
    "df = pd.read_csv(\"./data/jan.csv\")\n",
    "profile = ProfileReport(df, title=\"Columbia River Jan Temp Profile\", explorative=True)\n",
    "profile.to_file(output_file='columbia_river_jan_temp_profile.html')"
   ]
  }
 ],
 "metadata": {
  "kernelspec": {
   "display_name": "oura_env",
   "language": "python",
   "name": "python3"
  },
  "language_info": {
   "codemirror_mode": {
    "name": "ipython",
    "version": 3
   },
   "file_extension": ".py",
   "mimetype": "text/x-python",
   "name": "python",
   "nbconvert_exporter": "python",
   "pygments_lexer": "ipython3",
   "version": "3.8.13"
  },
  "orig_nbformat": 4
 },
 "nbformat": 4,
 "nbformat_minor": 2
}
